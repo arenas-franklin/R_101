{
 "cells": [
  {
   "cell_type": "markdown",
   "id": "interesting-strike",
   "metadata": {},
   "source": [
    "# R Básico "
   ]
  },
  {
   "cell_type": "markdown",
   "id": "weighted-invite",
   "metadata": {},
   "source": [
    "## Matemética, variaveis, string"
   ]
  },
  {
   "cell_type": "markdown",
   "id": "modular-intervention",
   "metadata": {},
   "source": [
    "**Operações em R**"
   ]
  },
  {
   "cell_type": "code",
   "execution_count": 1,
   "id": "racial-winter",
   "metadata": {},
   "outputs": [
    {
     "data": {
      "text/html": [
       "6"
      ],
      "text/latex": [
       "6"
      ],
      "text/markdown": [
       "6"
      ],
      "text/plain": [
       "[1] 6"
      ]
     },
     "metadata": {},
     "output_type": "display_data"
    }
   ],
   "source": [
    "#adição: \n",
    "4+2"
   ]
  },
  {
   "cell_type": "code",
   "execution_count": 2,
   "id": "adjusted-aerospace",
   "metadata": {},
   "outputs": [
    {
     "data": {
      "text/html": [
       "2"
      ],
      "text/latex": [
       "2"
      ],
      "text/markdown": [
       "2"
      ],
      "text/plain": [
       "[1] 2"
      ]
     },
     "metadata": {},
     "output_type": "display_data"
    }
   ],
   "source": [
    "#subtraçao:\n",
    "4-2"
   ]
  },
  {
   "cell_type": "code",
   "execution_count": 3,
   "id": "fundamental-terrain",
   "metadata": {},
   "outputs": [
    {
     "data": {
      "text/html": [
       "8"
      ],
      "text/latex": [
       "8"
      ],
      "text/markdown": [
       "8"
      ],
      "text/plain": [
       "[1] 8"
      ]
     },
     "metadata": {},
     "output_type": "display_data"
    }
   ],
   "source": [
    "#multiplicação: \n",
    "4*2"
   ]
  },
  {
   "cell_type": "code",
   "execution_count": 4,
   "id": "effective-distribution",
   "metadata": {},
   "outputs": [
    {
     "data": {
      "text/html": [
       "2"
      ],
      "text/latex": [
       "2"
      ],
      "text/markdown": [
       "2"
      ],
      "text/plain": [
       "[1] 2"
      ]
     },
     "metadata": {},
     "output_type": "display_data"
    }
   ],
   "source": [
    "#divisão:\n",
    "4/2"
   ]
  },
  {
   "cell_type": "code",
   "execution_count": 5,
   "id": "delayed-desire",
   "metadata": {},
   "outputs": [
    {
     "data": {
      "text/html": [
       "4"
      ],
      "text/latex": [
       "4"
      ],
      "text/markdown": [
       "4"
      ],
      "text/plain": [
       "[1] 4"
      ]
     },
     "metadata": {},
     "output_type": "display_data"
    }
   ],
   "source": [
    "#exponenciação:\n",
    "2^2"
   ]
  },
  {
   "cell_type": "code",
   "execution_count": 6,
   "id": "rough-representation",
   "metadata": {},
   "outputs": [],
   "source": [
    "#  atribuição de variavel\n",
    "x <- 139 + 121"
   ]
  },
  {
   "cell_type": "code",
   "execution_count": 7,
   "id": "lonely-virtue",
   "metadata": {},
   "outputs": [
    {
     "data": {
      "text/html": [
       "260"
      ],
      "text/latex": [
       "260"
      ],
      "text/markdown": [
       "260"
      ],
      "text/plain": [
       "[1] 260"
      ]
     },
     "metadata": {},
     "output_type": "display_data"
    }
   ],
   "source": [
    "x"
   ]
  },
  {
   "cell_type": "code",
   "execution_count": 8,
   "id": "statistical-reduction",
   "metadata": {},
   "outputs": [
    {
     "data": {
      "text/html": [
       "4.33333333333333"
      ],
      "text/latex": [
       "4.33333333333333"
      ],
      "text/markdown": [
       "4.33333333333333"
      ],
      "text/plain": [
       "[1] 4.333333"
      ]
     },
     "metadata": {},
     "output_type": "display_data"
    }
   ],
   "source": [
    "y <- x / 60\n",
    "y"
   ]
  },
  {
   "cell_type": "markdown",
   "id": "manual-pointer",
   "metadata": {},
   "source": [
    "**Variaveis em R**\n",
    "- para remover um varaivel da memória usa-se o comando **rm**(my_variable)"
   ]
  },
  {
   "cell_type": "code",
   "execution_count": 9,
   "id": "spare-sympathy",
   "metadata": {},
   "outputs": [],
   "source": [
    "rm(y)"
   ]
  },
  {
   "cell_type": "code",
   "execution_count": 10,
   "id": "architectural-korea",
   "metadata": {},
   "outputs": [
    {
     "ename": "ERROR",
     "evalue": "Error in eval(expr, envir, enclos): objeto 'y' não encontrado\n",
     "output_type": "error",
     "traceback": [
      "Error in eval(expr, envir, enclos): objeto 'y' não encontrado\nTraceback:\n"
     ]
    }
   ],
   "source": [
    "y"
   ]
  },
  {
   "cell_type": "code",
   "execution_count": 11,
   "id": "likely-capability",
   "metadata": {},
   "outputs": [
    {
     "data": {
      "text/html": [
       "260"
      ],
      "text/latex": [
       "260"
      ],
      "text/markdown": [
       "260"
      ],
      "text/plain": [
       "[1] 260"
      ]
     },
     "metadata": {},
     "output_type": "display_data"
    }
   ],
   "source": [
    "# outro modo de atribuir valor de uma variável é com o sinal de igual(=)\n",
    "total = 139 + 121\n",
    "total"
   ]
  },
  {
   "cell_type": "code",
   "execution_count": 12,
   "id": "cleared-techno",
   "metadata": {},
   "outputs": [
    {
     "data": {
      "text/html": [
       "4.33333333333333"
      ],
      "text/latex": [
       "4.33333333333333"
      ],
      "text/markdown": [
       "4.33333333333333"
      ],
      "text/plain": [
       "[1] 4.333333"
      ]
     },
     "metadata": {},
     "output_type": "display_data"
    }
   ],
   "source": [
    "total_hr <- total / 60\n",
    "total_hr"
   ]
  },
  {
   "cell_type": "code",
   "execution_count": 13,
   "id": "champion-subsection",
   "metadata": {},
   "outputs": [
    {
     "data": {
      "text/html": [
       "'Toy Story'"
      ],
      "text/latex": [
       "'Toy Story'"
      ],
      "text/markdown": [
       "'Toy Story'"
      ],
      "text/plain": [
       "[1] \"Toy Story\""
      ]
     },
     "metadata": {},
     "output_type": "display_data"
    }
   ],
   "source": [
    "# string\n",
    "movie <- \"Toy Story\"\n",
    "movie"
   ]
  },
  {
   "cell_type": "markdown",
   "id": "crazy-birmingham",
   "metadata": {},
   "source": [
    "## Vetores"
   ]
  },
  {
   "cell_type": "code",
   "execution_count": 14,
   "id": "supported-contract",
   "metadata": {},
   "outputs": [
    {
     "data": {
      "text/html": [
       "<ol class=list-inline>\n",
       "\t<li>1</li>\n",
       "\t<li>2</li>\n",
       "\t<li>3</li>\n",
       "\t<li>4</li>\n",
       "\t<li>5</li>\n",
       "\t<li>6</li>\n",
       "\t<li>7</li>\n",
       "\t<li>8</li>\n",
       "\t<li>10</li>\n",
       "</ol>\n"
      ],
      "text/latex": [
       "\\begin{enumerate*}\n",
       "\\item 1\n",
       "\\item 2\n",
       "\\item 3\n",
       "\\item 4\n",
       "\\item 5\n",
       "\\item 6\n",
       "\\item 7\n",
       "\\item 8\n",
       "\\item 10\n",
       "\\end{enumerate*}\n"
      ],
      "text/markdown": [
       "1. 1\n",
       "2. 2\n",
       "3. 3\n",
       "4. 4\n",
       "5. 5\n",
       "6. 6\n",
       "7. 7\n",
       "8. 8\n",
       "9. 10\n",
       "\n",
       "\n"
      ],
      "text/plain": [
       "[1]  1  2  3  4  5  6  7  8 10"
      ]
     },
     "metadata": {},
     "output_type": "display_data"
    }
   ],
   "source": [
    "c(1, 2, 3, 4, 5, 6, 7, 8, 10)"
   ]
  },
  {
   "cell_type": "code",
   "execution_count": 15,
   "id": "careful-somalia",
   "metadata": {},
   "outputs": [
    {
     "data": {
      "text/html": [
       "<ol class=list-inline>\n",
       "\t<li>1</li>\n",
       "\t<li>2</li>\n",
       "\t<li>3</li>\n",
       "\t<li>4</li>\n",
       "\t<li>5</li>\n",
       "\t<li>6</li>\n",
       "\t<li>7</li>\n",
       "\t<li>8</li>\n",
       "\t<li>9</li>\n",
       "\t<li>10</li>\n",
       "</ol>\n"
      ],
      "text/latex": [
       "\\begin{enumerate*}\n",
       "\\item 1\n",
       "\\item 2\n",
       "\\item 3\n",
       "\\item 4\n",
       "\\item 5\n",
       "\\item 6\n",
       "\\item 7\n",
       "\\item 8\n",
       "\\item 9\n",
       "\\item 10\n",
       "\\end{enumerate*}\n"
      ],
      "text/markdown": [
       "1. 1\n",
       "2. 2\n",
       "3. 3\n",
       "4. 4\n",
       "5. 5\n",
       "6. 6\n",
       "7. 7\n",
       "8. 8\n",
       "9. 9\n",
       "10. 10\n",
       "\n",
       "\n"
      ],
      "text/plain": [
       " [1]  1  2  3  4  5  6  7  8  9 10"
      ]
     },
     "metadata": {},
     "output_type": "display_data"
    }
   ],
   "source": [
    "c(1:10) "
   ]
  },
  {
   "cell_type": "code",
   "execution_count": 16,
   "id": "considerable-worthy",
   "metadata": {},
   "outputs": [
    {
     "data": {
      "text/html": [
       "<ol class=list-inline>\n",
       "\t<li>10</li>\n",
       "\t<li>9</li>\n",
       "\t<li>8</li>\n",
       "\t<li>7</li>\n",
       "\t<li>6</li>\n",
       "\t<li>5</li>\n",
       "\t<li>4</li>\n",
       "\t<li>3</li>\n",
       "\t<li>2</li>\n",
       "\t<li>1</li>\n",
       "</ol>\n"
      ],
      "text/latex": [
       "\\begin{enumerate*}\n",
       "\\item 10\n",
       "\\item 9\n",
       "\\item 8\n",
       "\\item 7\n",
       "\\item 6\n",
       "\\item 5\n",
       "\\item 4\n",
       "\\item 3\n",
       "\\item 2\n",
       "\\item 1\n",
       "\\end{enumerate*}\n"
      ],
      "text/markdown": [
       "1. 10\n",
       "2. 9\n",
       "3. 8\n",
       "4. 7\n",
       "5. 6\n",
       "6. 5\n",
       "7. 4\n",
       "8. 3\n",
       "9. 2\n",
       "10. 1\n",
       "\n",
       "\n"
      ],
      "text/plain": [
       " [1] 10  9  8  7  6  5  4  3  2  1"
      ]
     },
     "metadata": {},
     "output_type": "display_data"
    }
   ],
   "source": [
    "c(10:1) # 10 até 1 "
   ]
  },
  {
   "cell_type": "code",
   "execution_count": 17,
   "id": "stone-supervisor",
   "metadata": {},
   "outputs": [
    {
     "data": {
      "text/html": [
       "<ol class=list-inline>\n",
       "\t<li>1985</li>\n",
       "\t<li>1999</li>\n",
       "\t<li>2010</li>\n",
       "\t<li>2002</li>\n",
       "</ol>\n"
      ],
      "text/latex": [
       "\\begin{enumerate*}\n",
       "\\item 1985\n",
       "\\item 1999\n",
       "\\item 2010\n",
       "\\item 2002\n",
       "\\end{enumerate*}\n"
      ],
      "text/markdown": [
       "1. 1985\n",
       "2. 1999\n",
       "3. 2010\n",
       "4. 2002\n",
       "\n",
       "\n"
      ],
      "text/plain": [
       "[1] 1985 1999 2010 2002"
      ]
     },
     "metadata": {},
     "output_type": "display_data"
    }
   ],
   "source": [
    "# vetor numerico\n",
    "c(1985, 1999, 2010, 2002)"
   ]
  },
  {
   "cell_type": "code",
   "execution_count": 18,
   "id": "identical-recording",
   "metadata": {},
   "outputs": [
    {
     "data": {
      "text/html": [
       "<ol class=list-inline>\n",
       "\t<li>'Toy Story'</li>\n",
       "\t<li>'Akira'</li>\n",
       "\t<li>'The Artist'</li>\n",
       "\t<li>'City of Good'</li>\n",
       "</ol>\n"
      ],
      "text/latex": [
       "\\begin{enumerate*}\n",
       "\\item 'Toy Story'\n",
       "\\item 'Akira'\n",
       "\\item 'The Artist'\n",
       "\\item 'City of Good'\n",
       "\\end{enumerate*}\n"
      ],
      "text/markdown": [
       "1. 'Toy Story'\n",
       "2. 'Akira'\n",
       "3. 'The Artist'\n",
       "4. 'City of Good'\n",
       "\n",
       "\n"
      ],
      "text/plain": [
       "[1] \"Toy Story\"    \"Akira\"        \"The Artist\"   \"City of Good\""
      ]
     },
     "metadata": {},
     "output_type": "display_data"
    }
   ],
   "source": [
    "# vetor de caracter\n",
    "c(\"Toy Story\", \"Akira\", \"The Artist\", \"City of Good\")"
   ]
  },
  {
   "cell_type": "code",
   "execution_count": 19,
   "id": "sporting-guatemala",
   "metadata": {},
   "outputs": [
    {
     "data": {
      "text/html": [
       "FALSE"
      ],
      "text/latex": [
       "FALSE"
      ],
      "text/markdown": [
       "FALSE"
      ],
      "text/plain": [
       "[1] FALSE"
      ]
     },
     "metadata": {},
     "output_type": "display_data"
    }
   ],
   "source": [
    "# Logical Vector\n",
    "\n",
    "1997 > 2000"
   ]
  },
  {
   "cell_type": "code",
   "execution_count": 20,
   "id": "radio-windsor",
   "metadata": {},
   "outputs": [],
   "source": [
    "movie_ratings <- c(7.3, 8.5, 8.3, 7.5, 6.9, 5.2, 8.2, 8.0, 7.9, 9.3)"
   ]
  },
  {
   "cell_type": "code",
   "execution_count": 21,
   "id": "abandoned-airplane",
   "metadata": {},
   "outputs": [
    {
     "data": {
      "text/html": [
       "<ol class=list-inline>\n",
       "\t<li>FALSE</li>\n",
       "\t<li>TRUE</li>\n",
       "\t<li>TRUE</li>\n",
       "\t<li>FALSE</li>\n",
       "\t<li>FALSE</li>\n",
       "\t<li>FALSE</li>\n",
       "\t<li>TRUE</li>\n",
       "\t<li>TRUE</li>\n",
       "\t<li>TRUE</li>\n",
       "\t<li>TRUE</li>\n",
       "</ol>\n"
      ],
      "text/latex": [
       "\\begin{enumerate*}\n",
       "\\item FALSE\n",
       "\\item TRUE\n",
       "\\item TRUE\n",
       "\\item FALSE\n",
       "\\item FALSE\n",
       "\\item FALSE\n",
       "\\item TRUE\n",
       "\\item TRUE\n",
       "\\item TRUE\n",
       "\\item TRUE\n",
       "\\end{enumerate*}\n"
      ],
      "text/markdown": [
       "1. FALSE\n",
       "2. TRUE\n",
       "3. TRUE\n",
       "4. FALSE\n",
       "5. FALSE\n",
       "6. FALSE\n",
       "7. TRUE\n",
       "8. TRUE\n",
       "9. TRUE\n",
       "10. TRUE\n",
       "\n",
       "\n"
      ],
      "text/plain": [
       " [1] FALSE  TRUE  TRUE FALSE FALSE FALSE  TRUE  TRUE  TRUE  TRUE"
      ]
     },
     "metadata": {},
     "output_type": "display_data"
    }
   ],
   "source": [
    "movie_ratings > 7.5"
   ]
  },
  {
   "cell_type": "code",
   "execution_count": 22,
   "id": "changed-thinking",
   "metadata": {},
   "outputs": [],
   "source": [
    "#Factors\n",
    "genre_vector <- c(\"comedy\", \"comedy\", \"Amination\", \"Animation\", \"Crime\")"
   ]
  },
  {
   "cell_type": "code",
   "execution_count": 23,
   "id": "silent-darwin",
   "metadata": {},
   "outputs": [
    {
     "data": {
      "text/html": [
       "<ol class=list-inline>\n",
       "\t<li>comedy</li>\n",
       "\t<li>comedy</li>\n",
       "\t<li>Amination</li>\n",
       "\t<li>Animation</li>\n",
       "\t<li>Crime</li>\n",
       "</ol>\n",
       "\n",
       "<details>\n",
       "\t<summary style=display:list-item;cursor:pointer>\n",
       "\t\t<strong>Levels</strong>:\n",
       "\t</summary>\n",
       "\t<ol class=list-inline>\n",
       "\t\t<li>'Amination'</li>\n",
       "\t\t<li>'Animation'</li>\n",
       "\t\t<li>'comedy'</li>\n",
       "\t\t<li>'Crime'</li>\n",
       "\t</ol>\n",
       "</details>"
      ],
      "text/latex": [
       "\\begin{enumerate*}\n",
       "\\item comedy\n",
       "\\item comedy\n",
       "\\item Amination\n",
       "\\item Animation\n",
       "\\item Crime\n",
       "\\end{enumerate*}\n",
       "\n",
       "\\emph{Levels}: \\begin{enumerate*}\n",
       "\\item 'Amination'\n",
       "\\item 'Animation'\n",
       "\\item 'comedy'\n",
       "\\item 'Crime'\n",
       "\\end{enumerate*}\n"
      ],
      "text/markdown": [
       "1. comedy\n",
       "2. comedy\n",
       "3. Amination\n",
       "4. Animation\n",
       "5. Crime\n",
       "\n",
       "\n",
       "\n",
       "**Levels**: 1. 'Amination'\n",
       "2. 'Animation'\n",
       "3. 'comedy'\n",
       "4. 'Crime'\n",
       "\n",
       "\n"
      ],
      "text/plain": [
       "[1] comedy    comedy    Amination Animation Crime    \n",
       "Levels: Amination Animation comedy Crime"
      ]
     },
     "metadata": {},
     "output_type": "display_data"
    }
   ],
   "source": [
    "genre_factor <- factor(genre_vector)\n",
    "genre_factor"
   ]
  },
  {
   "cell_type": "code",
   "execution_count": 24,
   "id": "foreign-union",
   "metadata": {},
   "outputs": [
    {
     "data": {
      "text/plain": [
       "   Length     Class      Mode \n",
       "        5 character character "
      ]
     },
     "metadata": {},
     "output_type": "display_data"
    }
   ],
   "source": [
    "summary(genre_vector)"
   ]
  },
  {
   "cell_type": "code",
   "execution_count": 25,
   "id": "senior-green",
   "metadata": {},
   "outputs": [
    {
     "data": {
      "text/html": [
       "<ol class=list-inline>\n",
       "\t<li>'Very short'</li>\n",
       "\t<li>'Short'</li>\n",
       "\t<li>'Medium'</li>\n",
       "\t<li>'Short'</li>\n",
       "\t<li>'Long'</li>\n",
       "\t<li>'Very short'</li>\n",
       "\t<li>'Very Long'</li>\n",
       "</ol>\n"
      ],
      "text/latex": [
       "\\begin{enumerate*}\n",
       "\\item 'Very short'\n",
       "\\item 'Short'\n",
       "\\item 'Medium'\n",
       "\\item 'Short'\n",
       "\\item 'Long'\n",
       "\\item 'Very short'\n",
       "\\item 'Very Long'\n",
       "\\end{enumerate*}\n"
      ],
      "text/markdown": [
       "1. 'Very short'\n",
       "2. 'Short'\n",
       "3. 'Medium'\n",
       "4. 'Short'\n",
       "5. 'Long'\n",
       "6. 'Very short'\n",
       "7. 'Very Long'\n",
       "\n",
       "\n"
      ],
      "text/plain": [
       "[1] \"Very short\" \"Short\"      \"Medium\"     \"Short\"      \"Long\"      \n",
       "[6] \"Very short\" \"Very Long\" "
      ]
     },
     "metadata": {},
     "output_type": "display_data"
    }
   ],
   "source": [
    "# odered Factor\n",
    "movielength_vector <- c(\"Very short\", \"Short\", \"Medium\", \"Short\",\n",
    "                        \"Long\", \"Very short\", \"Very Long\")\n",
    "\n",
    "movielength_vector"
   ]
  },
  {
   "cell_type": "code",
   "execution_count": 26,
   "id": "disciplinary-journalist",
   "metadata": {},
   "outputs": [
    {
     "data": {
      "text/html": [
       "<ol class=list-inline>\n",
       "\t<li>Very short</li>\n",
       "\t<li>Short</li>\n",
       "\t<li>Medium</li>\n",
       "\t<li>Short</li>\n",
       "\t<li>Long</li>\n",
       "\t<li>Very short</li>\n",
       "\t<li>Very Long</li>\n",
       "</ol>\n",
       "\n",
       "<details>\n",
       "\t<summary style=display:list-item;cursor:pointer>\n",
       "\t\t<strong>Levels</strong>:\n",
       "\t</summary>\n",
       "\t<ol class=list-inline>\n",
       "\t\t<li>'Very short'</li>\n",
       "\t\t<li>'Short'</li>\n",
       "\t\t<li>'Medium'</li>\n",
       "\t\t<li>'Long'</li>\n",
       "\t\t<li>'Very Long'</li>\n",
       "\t</ol>\n",
       "</details>"
      ],
      "text/latex": [
       "\\begin{enumerate*}\n",
       "\\item Very short\n",
       "\\item Short\n",
       "\\item Medium\n",
       "\\item Short\n",
       "\\item Long\n",
       "\\item Very short\n",
       "\\item Very Long\n",
       "\\end{enumerate*}\n",
       "\n",
       "\\emph{Levels}: \\begin{enumerate*}\n",
       "\\item 'Very short'\n",
       "\\item 'Short'\n",
       "\\item 'Medium'\n",
       "\\item 'Long'\n",
       "\\item 'Very Long'\n",
       "\\end{enumerate*}\n"
      ],
      "text/markdown": [
       "1. Very short\n",
       "2. Short\n",
       "3. Medium\n",
       "4. Short\n",
       "5. Long\n",
       "6. Very short\n",
       "7. Very Long\n",
       "\n",
       "\n",
       "\n",
       "**Levels**: 1. 'Very short'\n",
       "2. 'Short'\n",
       "3. 'Medium'\n",
       "4. 'Long'\n",
       "5. 'Very Long'\n",
       "\n",
       "\n"
      ],
      "text/plain": [
       "[1] Very short Short      Medium     Short      Long       Very short Very Long \n",
       "Levels: Very short < Short < Medium < Long < Very Long"
      ]
     },
     "metadata": {},
     "output_type": "display_data"
    }
   ],
   "source": [
    "mvlength_factor <- factor(movielength_vector,\n",
    "                         ordered = TRUE,\n",
    "                          levels = c(\"Very short\", \"Short\", \"Medium\",\n",
    "                                    \"Long\", \"Very Long\")\n",
    "                         )\n",
    "mvlength_factor"
   ]
  },
  {
   "cell_type": "markdown",
   "id": "surface-montgomery",
   "metadata": {},
   "source": [
    "## Operações de vetor"
   ]
  },
  {
   "cell_type": "code",
   "execution_count": 27,
   "id": "available-paste",
   "metadata": {},
   "outputs": [],
   "source": [
    "year <- c(1985, 1999, 2010, 2002)"
   ]
  },
  {
   "cell_type": "code",
   "execution_count": 28,
   "id": "precise-brain",
   "metadata": {},
   "outputs": [],
   "source": [
    "names(year) <- c(\"The Breakfast Club\", \"American Beauty\", \"Black Swan\", \"Chicago\")"
   ]
  },
  {
   "cell_type": "code",
   "execution_count": 29,
   "id": "biblical-ethiopia",
   "metadata": {},
   "outputs": [],
   "source": [
    "year_sorted <- sort(year)"
   ]
  },
  {
   "cell_type": "code",
   "execution_count": 35,
   "id": "piano-hybrid",
   "metadata": {},
   "outputs": [
    {
     "data": {
      "text/html": [
       "<dl class=dl-horizontal>\n",
       "\t<dt>The Breakfast Club</dt>\n",
       "\t\t<dd>1985</dd>\n",
       "\t<dt>American Beauty</dt>\n",
       "\t\t<dd>1999</dd>\n",
       "\t<dt>Chicago</dt>\n",
       "\t\t<dd>2002</dd>\n",
       "\t<dt>Black Swan</dt>\n",
       "\t\t<dd>2010</dd>\n",
       "</dl>\n"
      ],
      "text/latex": [
       "\\begin{description*}\n",
       "\\item[The Breakfast Club] 1985\n",
       "\\item[American Beauty] 1999\n",
       "\\item[Chicago] 2002\n",
       "\\item[Black Swan] 2010\n",
       "\\end{description*}\n"
      ],
      "text/markdown": [
       "The Breakfast Club\n",
       ":   1985American Beauty\n",
       ":   1999Chicago\n",
       ":   2002Black Swan\n",
       ":   2010\n",
       "\n"
      ],
      "text/plain": [
       "The Breakfast Club    American Beauty            Chicago         Black Swan \n",
       "              1985               1999               2002               2010 "
      ]
     },
     "metadata": {},
     "output_type": "display_data"
    }
   ],
   "source": [
    "year_sorted"
   ]
  },
  {
   "cell_type": "code",
   "execution_count": 36,
   "id": "interesting-timothy",
   "metadata": {},
   "outputs": [
    {
     "data": {
      "text/html": [
       "1985"
      ],
      "text/latex": [
       "1985"
      ],
      "text/markdown": [
       "1985"
      ],
      "text/plain": [
       "[1] 1985"
      ]
     },
     "metadata": {},
     "output_type": "display_data"
    }
   ],
   "source": [
    "#valor minina de um vetor\n",
    "min(year)"
   ]
  },
  {
   "cell_type": "code",
   "execution_count": 37,
   "id": "theoretical-business",
   "metadata": {},
   "outputs": [
    {
     "data": {
      "text/html": [
       "2010"
      ],
      "text/latex": [
       "2010"
      ],
      "text/markdown": [
       "2010"
      ],
      "text/plain": [
       "[1] 2010"
      ]
     },
     "metadata": {},
     "output_type": "display_data"
    }
   ],
   "source": [
    "# valor maximo de um vetor\n",
    "max(year)"
   ]
  },
  {
   "cell_type": "code",
   "execution_count": 38,
   "id": "expected-colors",
   "metadata": {},
   "outputs": [],
   "source": [
    "cost_2014 <- c(8.6, 8.5, 8.1)"
   ]
  },
  {
   "cell_type": "code",
   "execution_count": 39,
   "id": "frequent-conference",
   "metadata": {},
   "outputs": [
    {
     "data": {
      "text/html": [
       "8.4"
      ],
      "text/latex": [
       "8.4"
      ],
      "text/markdown": [
       "8.4"
      ],
      "text/plain": [
       "[1] 8.4"
      ]
     },
     "metadata": {},
     "output_type": "display_data"
    }
   ],
   "source": [
    "#media de um vetor\n",
    "mean(cost_2014)"
   ]
  },
  {
   "cell_type": "code",
   "execution_count": 40,
   "id": "distant-culture",
   "metadata": {},
   "outputs": [
    {
     "data": {
      "text/plain": [
       "   Min. 1st Qu.  Median    Mean 3rd Qu.    Max. \n",
       "   8.10    8.30    8.50    8.40    8.55    8.60 "
      ]
     },
     "metadata": {},
     "output_type": "display_data"
    }
   ],
   "source": [
    "# funçao resumo\n",
    "summary(cost_2014)"
   ]
  },
  {
   "cell_type": "code",
   "execution_count": 41,
   "id": "cordless-merit",
   "metadata": {},
   "outputs": [
    {
     "data": {
      "text/html": [
       "<ol class=list-inline>\n",
       "\t<li>8.6</li>\n",
       "\t<li>8.5</li>\n",
       "\t<li>8.1</li>\n",
       "</ol>\n"
      ],
      "text/latex": [
       "\\begin{enumerate*}\n",
       "\\item 8.6\n",
       "\\item 8.5\n",
       "\\item 8.1\n",
       "\\end{enumerate*}\n"
      ],
      "text/markdown": [
       "1. 8.6\n",
       "2. 8.5\n",
       "3. 8.1\n",
       "\n",
       "\n"
      ],
      "text/plain": [
       "[1] 8.6 8.5 8.1"
      ]
     },
     "metadata": {},
     "output_type": "display_data"
    }
   ],
   "source": [
    "cost_2014"
   ]
  },
  {
   "cell_type": "code",
   "execution_count": 42,
   "id": "certain-exploration",
   "metadata": {},
   "outputs": [
    {
     "data": {
      "text/html": [
       "8.5"
      ],
      "text/latex": [
       "8.5"
      ],
      "text/markdown": [
       "8.5"
      ],
      "text/plain": [
       "[1] 8.5"
      ]
     },
     "metadata": {},
     "output_type": "display_data"
    }
   ],
   "source": [
    "# retorna um valor do vetor pelo indice indicado \n",
    "cost_2014[2]"
   ]
  },
  {
   "cell_type": "code",
   "execution_count": 46,
   "id": "interpreted-buddy",
   "metadata": {},
   "outputs": [
    {
     "data": {
      "text/html": [
       "<ol class=list-inline>\n",
       "\t<li>8.5</li>\n",
       "\t<li>8.1</li>\n",
       "</ol>\n"
      ],
      "text/latex": [
       "\\begin{enumerate*}\n",
       "\\item 8.5\n",
       "\\item 8.1\n",
       "\\end{enumerate*}\n"
      ],
      "text/markdown": [
       "1. 8.5\n",
       "2. 8.1\n",
       "\n",
       "\n"
      ],
      "text/plain": [
       "[1] 8.5 8.1"
      ]
     },
     "metadata": {},
     "output_type": "display_data"
    }
   ],
   "source": [
    "# retorna o valores do vetor passando dois indice \n",
    "cost_2014[c(2,3)]"
   ]
  },
  {
   "cell_type": "code",
   "execution_count": 47,
   "id": "located-machine",
   "metadata": {},
   "outputs": [
    {
     "data": {
      "text/html": [
       "<ol class=list-inline>\n",
       "\t<li>8.6</li>\n",
       "\t<li>8.5</li>\n",
       "\t<li>8.1</li>\n",
       "</ol>\n"
      ],
      "text/latex": [
       "\\begin{enumerate*}\n",
       "\\item 8.6\n",
       "\\item 8.5\n",
       "\\item 8.1\n",
       "\\end{enumerate*}\n"
      ],
      "text/markdown": [
       "1. 8.6\n",
       "2. 8.5\n",
       "3. 8.1\n",
       "\n",
       "\n"
      ],
      "text/plain": [
       "[1] 8.6 8.5 8.1"
      ]
     },
     "metadata": {},
     "output_type": "display_data"
    }
   ],
   "source": [
    "cost_2014[1:3]"
   ]
  },
  {
   "cell_type": "code",
   "execution_count": 49,
   "id": "collectible-volunteer",
   "metadata": {},
   "outputs": [],
   "source": [
    "titles <- c(\"Black Swan\", \"Casino\", \"City od God\", \"City of God\", \"Jumanji\",\" Toy Story\")"
   ]
  },
  {
   "cell_type": "code",
   "execution_count": 51,
   "id": "multiple-creativity",
   "metadata": {},
   "outputs": [
    {
     "data": {
      "text/html": [
       "6"
      ],
      "text/latex": [
       "6"
      ],
      "text/markdown": [
       "6"
      ],
      "text/plain": [
       "[1] 6"
      ]
     },
     "metadata": {},
     "output_type": "display_data"
    }
   ],
   "source": [
    "length(titles)"
   ]
  },
  {
   "cell_type": "code",
   "execution_count": 52,
   "id": "severe-thing",
   "metadata": {},
   "outputs": [
    {
     "data": {
      "text/html": [
       "<ol class=list-inline>\n",
       "\t<li>'Casino'</li>\n",
       "\t<li>'City od God'</li>\n",
       "\t<li>'City of God'</li>\n",
       "\t<li>'Jumanji'</li>\n",
       "</ol>\n"
      ],
      "text/latex": [
       "\\begin{enumerate*}\n",
       "\\item 'Casino'\n",
       "\\item 'City od God'\n",
       "\\item 'City of God'\n",
       "\\item 'Jumanji'\n",
       "\\end{enumerate*}\n"
      ],
      "text/markdown": [
       "1. 'Casino'\n",
       "2. 'City od God'\n",
       "3. 'City of God'\n",
       "4. 'Jumanji'\n",
       "\n",
       "\n"
      ],
      "text/plain": [
       "[1] \"Casino\"      \"City od God\" \"City of God\" \"Jumanji\"    "
      ]
     },
     "metadata": {},
     "output_type": "display_data"
    }
   ],
   "source": [
    "titles[2:5]"
   ]
  },
  {
   "cell_type": "code",
   "execution_count": 53,
   "id": "celtic-earthquake",
   "metadata": {},
   "outputs": [
    {
     "data": {
      "text/html": [
       "<ol class=list-inline>\n",
       "\t<li>'Casino'</li>\n",
       "\t<li>'City od God'</li>\n",
       "\t<li>'City of God'</li>\n",
       "\t<li>'Jumanji'</li>\n",
       "\t<li>' Toy Story'</li>\n",
       "</ol>\n"
      ],
      "text/latex": [
       "\\begin{enumerate*}\n",
       "\\item 'Casino'\n",
       "\\item 'City od God'\n",
       "\\item 'City of God'\n",
       "\\item 'Jumanji'\n",
       "\\item ' Toy Story'\n",
       "\\end{enumerate*}\n"
      ],
      "text/markdown": [
       "1. 'Casino'\n",
       "2. 'City od God'\n",
       "3. 'City of God'\n",
       "4. 'Jumanji'\n",
       "5. ' Toy Story'\n",
       "\n",
       "\n"
      ],
      "text/plain": [
       "[1] \"Casino\"      \"City od God\" \"City of God\" \"Jumanji\"     \" Toy Story\" "
      ]
     },
     "metadata": {},
     "output_type": "display_data"
    }
   ],
   "source": [
    "# remove o indice 1 \n",
    "titles[-1]"
   ]
  },
  {
   "cell_type": "code",
   "execution_count": 54,
   "id": "timely-economy",
   "metadata": {},
   "outputs": [
    {
     "data": {
      "text/html": [
       "NA"
      ],
      "text/latex": [
       "NA"
      ],
      "text/markdown": [
       "NA"
      ],
      "text/plain": [
       "[1] NA"
      ]
     },
     "metadata": {},
     "output_type": "display_data"
    }
   ],
   "source": [
    "# quando indica um indice que não exite no vetor ele retorna NA\n",
    "titles[8]"
   ]
  },
  {
   "cell_type": "code",
   "execution_count": 56,
   "id": "moved-calcium",
   "metadata": {},
   "outputs": [
    {
     "data": {
      "text/html": [
       "<ol class=list-inline>\n",
       "\t<li>TRUE</li>\n",
       "\t<li>TRUE</li>\n",
       "\t<li>FALSE</li>\n",
       "</ol>\n"
      ],
      "text/latex": [
       "\\begin{enumerate*}\n",
       "\\item TRUE\n",
       "\\item TRUE\n",
       "\\item FALSE\n",
       "\\end{enumerate*}\n"
      ],
      "text/markdown": [
       "1. TRUE\n",
       "2. TRUE\n",
       "3. FALSE\n",
       "\n",
       "\n"
      ],
      "text/plain": [
       "[1]  TRUE  TRUE FALSE"
      ]
     },
     "metadata": {},
     "output_type": "display_data"
    }
   ],
   "source": [
    "cost_2014 > 8.3"
   ]
  },
  {
   "cell_type": "code",
   "execution_count": 57,
   "id": "strategic-swimming",
   "metadata": {},
   "outputs": [
    {
     "data": {
      "text/html": [
       "<ol class=list-inline>\n",
       "\t<li>8.6</li>\n",
       "\t<li>8.5</li>\n",
       "</ol>\n"
      ],
      "text/latex": [
       "\\begin{enumerate*}\n",
       "\\item 8.6\n",
       "\\item 8.5\n",
       "\\end{enumerate*}\n"
      ],
      "text/markdown": [
       "1. 8.6\n",
       "2. 8.5\n",
       "\n",
       "\n"
      ],
      "text/plain": [
       "[1] 8.6 8.5"
      ]
     },
     "metadata": {},
     "output_type": "display_data"
    }
   ],
   "source": [
    "cost_2014[cost_2014 > 8.3]"
   ]
  },
  {
   "cell_type": "code",
   "execution_count": 59,
   "id": "unavailable-scotland",
   "metadata": {},
   "outputs": [
    {
     "data": {
      "text/html": [
       "<ol class=list-inline>\n",
       "\t<li>14</li>\n",
       "\t<li>12</li>\n",
       "\t<li>10</li>\n",
       "\t<li>&lt;NA&gt;</li>\n",
       "\t<li>18</li>\n",
       "\t<li>&lt;NA&gt;</li>\n",
       "</ol>\n"
      ],
      "text/latex": [
       "\\begin{enumerate*}\n",
       "\\item 14\n",
       "\\item 12\n",
       "\\item 10\n",
       "\\item <NA>\n",
       "\\item 18\n",
       "\\item <NA>\n",
       "\\end{enumerate*}\n"
      ],
      "text/markdown": [
       "1. 14\n",
       "2. 12\n",
       "3. 10\n",
       "4. &lt;NA&gt;\n",
       "5. 18\n",
       "6. &lt;NA&gt;\n",
       "\n",
       "\n"
      ],
      "text/plain": [
       "[1] 14 12 10 NA 18 NA"
      ]
     },
     "metadata": {},
     "output_type": "display_data"
    }
   ],
   "source": [
    "# valores ausentes são representados por NA\n",
    "age_restric <- c(14, 12, 10, NA, 18, NA)\n",
    "age_restric"
   ]
  },
  {
   "cell_type": "code",
   "execution_count": 60,
   "id": "concerned-advocate",
   "metadata": {},
   "outputs": [],
   "source": [
    "age_restriction <- c(14,16,12,10,18,18)\n",
    "sequeces <- c(2,3,0,2,6,3)"
   ]
  },
  {
   "cell_type": "code",
   "execution_count": 61,
   "id": "postal-tongue",
   "metadata": {},
   "outputs": [
    {
     "data": {
      "text/html": [
       "<ol class=list-inline>\n",
       "\t<li>16</li>\n",
       "\t<li>19</li>\n",
       "\t<li>12</li>\n",
       "\t<li>12</li>\n",
       "\t<li>24</li>\n",
       "\t<li>21</li>\n",
       "</ol>\n"
      ],
      "text/latex": [
       "\\begin{enumerate*}\n",
       "\\item 16\n",
       "\\item 19\n",
       "\\item 12\n",
       "\\item 12\n",
       "\\item 24\n",
       "\\item 21\n",
       "\\end{enumerate*}\n"
      ],
      "text/markdown": [
       "1. 16\n",
       "2. 19\n",
       "3. 12\n",
       "4. 12\n",
       "5. 24\n",
       "6. 21\n",
       "\n",
       "\n"
      ],
      "text/plain": [
       "[1] 16 19 12 12 24 21"
      ]
     },
     "metadata": {},
     "output_type": "display_data"
    }
   ],
   "source": [
    "age_restriction + sequeces"
   ]
  },
  {
   "cell_type": "code",
   "execution_count": 62,
   "id": "personal-retrieval",
   "metadata": {},
   "outputs": [
    {
     "data": {
      "text/html": [
       "<ol class=list-inline>\n",
       "\t<li>12</li>\n",
       "\t<li>13</li>\n",
       "\t<li>12</li>\n",
       "\t<li>8</li>\n",
       "\t<li>12</li>\n",
       "\t<li>15</li>\n",
       "</ol>\n"
      ],
      "text/latex": [
       "\\begin{enumerate*}\n",
       "\\item 12\n",
       "\\item 13\n",
       "\\item 12\n",
       "\\item 8\n",
       "\\item 12\n",
       "\\item 15\n",
       "\\end{enumerate*}\n"
      ],
      "text/markdown": [
       "1. 12\n",
       "2. 13\n",
       "3. 12\n",
       "4. 8\n",
       "5. 12\n",
       "6. 15\n",
       "\n",
       "\n"
      ],
      "text/plain": [
       "[1] 12 13 12  8 12 15"
      ]
     },
     "metadata": {},
     "output_type": "display_data"
    }
   ],
   "source": [
    "age_restriction - sequeces"
   ]
  },
  {
   "cell_type": "code",
   "execution_count": 63,
   "id": "administrative-antique",
   "metadata": {},
   "outputs": [
    {
     "data": {
      "text/html": [
       "<ol class=list-inline>\n",
       "\t<li>28</li>\n",
       "\t<li>48</li>\n",
       "\t<li>0</li>\n",
       "\t<li>20</li>\n",
       "\t<li>108</li>\n",
       "\t<li>54</li>\n",
       "</ol>\n"
      ],
      "text/latex": [
       "\\begin{enumerate*}\n",
       "\\item 28\n",
       "\\item 48\n",
       "\\item 0\n",
       "\\item 20\n",
       "\\item 108\n",
       "\\item 54\n",
       "\\end{enumerate*}\n"
      ],
      "text/markdown": [
       "1. 28\n",
       "2. 48\n",
       "3. 0\n",
       "4. 20\n",
       "5. 108\n",
       "6. 54\n",
       "\n",
       "\n"
      ],
      "text/plain": [
       "[1]  28  48   0  20 108  54"
      ]
     },
     "metadata": {},
     "output_type": "display_data"
    }
   ],
   "source": [
    "age_restriction * sequeces"
   ]
  },
  {
   "cell_type": "code",
   "execution_count": 64,
   "id": "rough-society",
   "metadata": {},
   "outputs": [
    {
     "data": {
      "text/html": [
       "<ol class=list-inline>\n",
       "\t<li>7</li>\n",
       "\t<li>5.33333333333333</li>\n",
       "\t<li>Inf</li>\n",
       "\t<li>5</li>\n",
       "\t<li>3</li>\n",
       "\t<li>6</li>\n",
       "</ol>\n"
      ],
      "text/latex": [
       "\\begin{enumerate*}\n",
       "\\item 7\n",
       "\\item 5.33333333333333\n",
       "\\item Inf\n",
       "\\item 5\n",
       "\\item 3\n",
       "\\item 6\n",
       "\\end{enumerate*}\n"
      ],
      "text/markdown": [
       "1. 7\n",
       "2. 5.33333333333333\n",
       "3. Inf\n",
       "4. 5\n",
       "5. 3\n",
       "6. 6\n",
       "\n",
       "\n"
      ],
      "text/plain": [
       "[1] 7.000000 5.333333      Inf 5.000000 3.000000 6.000000"
      ]
     },
     "metadata": {},
     "output_type": "display_data"
    }
   ],
   "source": [
    "age_restriction / sequeces"
   ]
  },
  {
   "cell_type": "code",
   "execution_count": null,
   "id": "alien-composite",
   "metadata": {},
   "outputs": [],
   "source": []
  }
 ],
 "metadata": {
  "kernelspec": {
   "display_name": "R",
   "language": "R",
   "name": "ir"
  },
  "language_info": {
   "codemirror_mode": "r",
   "file_extension": ".r",
   "mimetype": "text/x-r-source",
   "name": "R",
   "pygments_lexer": "r",
   "version": "3.6.1"
  }
 },
 "nbformat": 4,
 "nbformat_minor": 5
}
